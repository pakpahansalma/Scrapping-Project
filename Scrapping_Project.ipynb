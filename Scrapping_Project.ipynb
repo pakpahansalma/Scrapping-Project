{
  "nbformat": 4,
  "nbformat_minor": 0,
  "metadata": {
    "colab": {
      "provenance": [],
      "authorship_tag": "ABX9TyNnHB3h6ghwJct82NHb+zfD",
      "include_colab_link": true
    },
    "kernelspec": {
      "name": "python3",
      "display_name": "Python 3"
    },
    "language_info": {
      "name": "python"
    }
  },
  "cells": [
    {
      "cell_type": "markdown",
      "metadata": {
        "id": "view-in-github",
        "colab_type": "text"
      },
      "source": [
        "<a href=\"https://colab.research.google.com/github/pakpahansalma/Scrapping-Project/blob/main/Scrapping_Project.ipynb\" target=\"_parent\"><img src=\"https://colab.research.google.com/assets/colab-badge.svg\" alt=\"Open In Colab\"/></a>"
      ]
    },
    {
      "cell_type": "code",
      "execution_count": 7,
      "metadata": {
        "colab": {
          "base_uri": "https://localhost:8080/"
        },
        "id": "37y0VuZwIIx_",
        "outputId": "bb3355df-f4de-4d0c-cf0a-cfe3702e3328"
      },
      "outputs": [
        {
          "output_type": "stream",
          "name": "stdout",
          "text": [
            "Requirement already satisfied: requests in /usr/local/lib/python3.10/dist-packages (2.32.3)\n",
            "Requirement already satisfied: charset-normalizer<4,>=2 in /usr/local/lib/python3.10/dist-packages (from requests) (3.4.0)\n",
            "Requirement already satisfied: idna<4,>=2.5 in /usr/local/lib/python3.10/dist-packages (from requests) (3.10)\n",
            "Requirement already satisfied: urllib3<3,>=1.21.1 in /usr/local/lib/python3.10/dist-packages (from requests) (2.2.3)\n",
            "Requirement already satisfied: certifi>=2017.4.17 in /usr/local/lib/python3.10/dist-packages (from requests) (2024.8.30)\n"
          ]
        }
      ],
      "source": [
        "pip install requests"
      ]
    },
    {
      "cell_type": "code",
      "source": [
        "import requests\n",
        "import pandas as pd\n",
        "\n",
        "# Fungsi untuk mendapatkan informasi buku berdasarkan pencarian\n",
        "def search_books(query, limit=100):\n",
        "    url = f'https://openlibrary.org/search.json'\n",
        "    params = {\n",
        "        'q': query,\n",
        "        'limit': limit\n",
        "    }\n",
        "    response = requests.get(url, params=params)\n",
        "\n",
        "    if response.status_code == 200:\n",
        "        return response.json()\n",
        "    else:\n",
        "        print(f'Error: {response.status_code}')\n",
        "    return None\n",
        "\n",
        "# Pencarian buku berdasarkan subjek \"Data Science\"\n",
        "query = 'data science'  # Kata kunci pencarian\n",
        "data = search_books(query, limit=100)\n",
        "\n",
        "# Mengumpulkan data buku\n",
        "book_data = []\n",
        "if data and 'docs' in data:\n",
        "    for book in data['docs']:\n",
        "        book_data.append({\n",
        "            'Title': book.get('title'),\n",
        "            'Authors': ', '.join(book.get('author_name', [])),\n",
        "            'Published Year': book.get('first_publish_year', 'N/A'),\n",
        "            'Number of Pages': book.get('number_of_pages', 'N/A'),\n",
        "            'Cover Image': f\"https://covers.openlibrary.org/b/id/{book['cover_i']}-M.jpg\" if 'cover_i' in book else 'N/A',\n",
        "            'Subjects': ', '.join(book.get('subject', []))\n",
        "        })\n",
        "\n",
        "# Mengubah data menjadi DataFrame\n",
        "df = pd.DataFrame(book_data)\n",
        "\n",
        "# Menyimpan data ke file CSV\n",
        "df.to_csv('data_science_books.csv', index=False)\n",
        "print(\"Data buku tentang Data Science berhasil disimpan ke 'data_science_books.csv'\")"
      ],
      "metadata": {
        "colab": {
          "base_uri": "https://localhost:8080/"
        },
        "id": "Cf9lLZjHOnxN",
        "outputId": "c93349b2-9866-484c-f481-ac41c9ffc9d5"
      },
      "execution_count": 16,
      "outputs": [
        {
          "output_type": "stream",
          "name": "stdout",
          "text": [
            "Data buku tentang Data Science berhasil disimpan ke 'data_science_books.csv'\n"
          ]
        }
      ]
    }
  ]
}